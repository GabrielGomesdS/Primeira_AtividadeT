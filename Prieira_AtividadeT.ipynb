{
  "cells": [
    {
      "cell_type": "markdown",
      "metadata": {
        "id": "view-in-github",
        "colab_type": "text"
      },
      "source": [
        "<a href=\"https://colab.research.google.com/github/GabrielGomesdS/Primeira_AtividadeT/blob/main/Prieira_AtividadeT.ipynb\" target=\"_parent\"><img src=\"https://colab.research.google.com/assets/colab-badge.svg\" alt=\"Open In Colab\"/></a>"
      ]
    },
    {
      "cell_type": "code",
      "source": [
        "import pandas as pd"
      ],
      "metadata": {
        "id": "5QfYVpkQo6Iv"
      },
      "execution_count": null,
      "outputs": []
    },
    {
      "cell_type": "code",
      "source": [
        "# Endereco do arquivo\n",
        "endereco = '/content/drive/MyDrive/TOPICOS-ESPECIAIS-M6/TOPICOS-ESPECIAIS-M6-main/1.2 - trabalho avaliativo/dados_compras.json'"
      ],
      "metadata": {
        "id": "gDakc1oBo_W9"
      },
      "execution_count": null,
      "outputs": []
    },
    {
      "cell_type": "code",
      "source": [
        "from google.colab import drive\n",
        "drive.mount('/content/drive')"
      ],
      "metadata": {
        "colab": {
          "base_uri": "https://localhost:8080/"
        },
        "id": "Fi6GgA_3pHRZ",
        "outputId": "6c74d899-cf39-4a8c-fb2f-ea444b415145"
      },
      "execution_count": null,
      "outputs": [
        {
          "output_type": "stream",
          "name": "stdout",
          "text": [
            "Mounted at /content/drive\n"
          ]
        }
      ]
    },
    {
      "cell_type": "code",
      "source": [
        "# Carregando dados do arquivo JSON usando pandas\n",
        "dados_compras = pd.read_json(endereco, orient=\"records\")"
      ],
      "metadata": {
        "id": "Znhqz-FUrM-8"
      },
      "execution_count": null,
      "outputs": []
    },
    {
      "cell_type": "code",
      "source": [
        "# Contagem de Compradores\n",
        "numero_total_compradores = dados_compras['Login'].nunique()"
      ],
      "metadata": {
        "id": "n6mBKS66rRz0"
      },
      "execution_count": null,
      "outputs": []
    },
    {
      "cell_type": "code",
      "source": [
        "# Análise Geral de Compras\n",
        "numero_itens_exclusivos = dados_compras['Item ID'].nunique()\n",
        "preco_medio_compra = round(dados_compras['Valor'].mean(), 2)\n",
        "numero_total_compras = dados_compras.shape[0]\n",
        "rendimento_total = round(dados_compras['Valor'].sum(), 2)"
      ],
      "metadata": {
        "id": "uCkoNhTRrUg8"
      },
      "execution_count": null,
      "outputs": []
    },
    {
      "cell_type": "code",
      "source": [
        "# Informações Demográficas Por Gênero\n",
        "total_compradores_por_genero = dados_compras.groupby('Sexo')['Login'].nunique()\n",
        "percentagem_masculinos = (total_compradores_por_genero.get('Masculino', 0) / numero_total_compradores) * 100\n",
        "percentagem_femininos = (total_compradores_por_genero.get('Feminino', 0) / numero_total_compradores) * 100\n",
        "percentagem_nao_divulgados = (total_compradores_por_genero.get('Outro / Não Divulgado', 0) / numero_total_compradores) * 100\n"
      ],
      "metadata": {
        "id": "1L_K0vJUrWyT"
      },
      "execution_count": null,
      "outputs": []
    },
    {
      "cell_type": "code",
      "source": [
        "# Análise de Compras Por Gênero\n",
        "compras_por_genero = dados_compras.groupby('Sexo')['Valor']\n",
        "analise_compras_genero = compras_por_genero.agg(['count', 'mean', 'sum'])\n"
      ],
      "metadata": {
        "id": "hxFp-QtcraeM"
      },
      "execution_count": null,
      "outputs": []
    },
    {
      "cell_type": "code",
      "source": [
        "# Compras por Faixa Etária\n",
        "faixas_etarias = [10, 20, 30, 40, 50, 60, 70, 80, 90, 100]\n",
        "dados_compras['Faixa Etária'] = pd.cut(dados_compras['Idade'], bins=faixas_etarias)\n",
        "compras_por_faixa_etaria = dados_compras.groupby('Faixa Etária')['Valor'].count()\n"
      ],
      "metadata": {
        "id": "AbKcPvpereET"
      },
      "execution_count": null,
      "outputs": []
    },
    {
      "cell_type": "code",
      "source": [
        "# Identificando os 5 principais compradores pelo valor total de compra\n",
        "top_compradores = dados_compras.groupby('Login')['Valor'].agg(['count', 'mean', 'sum']).nlargest(5, 'sum').reset_index()\n"
      ],
      "metadata": {
        "id": "a8bHMU50rgQE"
      },
      "execution_count": null,
      "outputs": []
    },
    {
      "cell_type": "code",
      "source": [
        "# Identificando os 5 itens mais populares por contagem de compras\n",
        "top_itens_contagem = dados_compras.groupby(['Item ID', 'Nome do Item'])['Valor'].agg(['count', 'mean', 'sum']).nlargest(5, 'count').reset_index()\n"
      ],
      "metadata": {
        "id": "jjkbmHkmrlNC"
      },
      "execution_count": null,
      "outputs": []
    },
    {
      "cell_type": "code",
      "source": [
        "# Identificando os 5 itens mais lucrativos pelo valor total de compra\n",
        "top_itens_valor = dados_compras.groupby(['Item ID', 'Nome do Item'])['Valor'].agg(['count', 'mean', 'sum']).nlargest(5, 'sum').reset_index()\n"
      ],
      "metadata": {
        "id": "D8o3irJQroGb"
      },
      "execution_count": null,
      "outputs": []
    },
    {
      "cell_type": "code",
      "source": [
        "# Imprimindo resultados\n",
        "print(\"Contagem de Compradores:\")\n",
        "print(\"Número total de compradores:\", numero_total_compradores)\n",
        "\n",
        "print(\"\\nAnálise Geral de Compras:\")\n",
        "print(\"Número de itens exclusivos:\", numero_itens_exclusivos)\n",
        "print(\"Preço médio de compra:\", preco_medio_compra)\n",
        "print(\"Número total de compras:\", numero_total_compras)\n",
        "print(\"Rendimento total:\", rendimento_total)\n",
        "\n",
        "print(\"\\nInformações Demográficas Por Gênero:\")\n",
        "print(f\"Porcentagem e contagem de compradores masculinos: {percentagem_masculinos:.2f}%, {total_compradores_por_genero.get('Masculino', 0)}\")\n",
        "print(f\"Porcentagem e contagem de compradores do sexo feminino: {percentagem_femininos:.2f}%, {total_compradores_por_genero.get('Feminino', 0)}\")\n",
        "print(f\"Porcentagem e contagem de outros / não divulgados: {percentagem_nao_divulgados:.2f}%, {total_compradores_por_genero.get('Outro / Não Divulgado', 0)}\")\n",
        "\n",
        "print(\"\\nAnálise de Compras Por Gênero:\")\n",
        "print(analise_compras_genero)\n",
        "\n",
        "print(\"\\nCompras por faixa etária:\")\n",
        "print(compras_por_faixa_etaria)\n",
        "\n",
        "print(\"\\nIdentificar os 5 principais compradores pelo valor total de compra:\")\n",
        "print(top_compradores)\n",
        "\n",
        "print(\"\\nIdentificar os 5 itens mais populares por contagem de compras:\")\n",
        "print(top_itens_contagem)\n",
        "\n",
        "print(\"\\nIdentificar os 5 itens mais lucrativos pelo valor total de compra:\")\n",
        "print(top_itens_valor)"
      ],
      "metadata": {
        "colab": {
          "base_uri": "https://localhost:8080/"
        },
        "id": "CNMvYVodrqHU",
        "outputId": "070e222d-fd0f-4259-b7a9-528f24213ebb"
      },
      "execution_count": null,
      "outputs": [
        {
          "output_type": "stream",
          "name": "stdout",
          "text": [
            "Contagem de Compradores:\n",
            "Número total de compradores: 573\n",
            "\n",
            "Análise Geral de Compras:\n",
            "Número de itens exclusivos: 183\n",
            "Preço médio de compra: 2.93\n",
            "Número total de compras: 780\n",
            "Rendimento total: 2286.33\n",
            "\n",
            "Informações Demográficas Por Gênero:\n",
            "Porcentagem e contagem de compradores masculinos: 81.15%, 465\n",
            "Porcentagem e contagem de compradores do sexo feminino: 17.45%, 100\n",
            "Porcentagem e contagem de outros / não divulgados: 1.40%, 8\n",
            "\n",
            "Análise de Compras Por Gênero:\n",
            "                       count      mean      sum\n",
            "Sexo                                           \n",
            "Feminino                 136  2.815515   382.91\n",
            "Masculino                633  2.950521  1867.68\n",
            "Outro / Não Divulgado     11  3.249091    35.74\n",
            "\n",
            "Compras por faixa etária:\n",
            "Faixa Etária\n",
            "(10, 20]     262\n",
            "(20, 30]     381\n",
            "(30, 40]     102\n",
            "(40, 50]       3\n",
            "(50, 60]       0\n",
            "(60, 70]       0\n",
            "(70, 80]       0\n",
            "(80, 90]       0\n",
            "(90, 100]      0\n",
            "Name: Valor, dtype: int64\n",
            "\n",
            "Identificar os 5 principais compradores pelo valor total de compra:\n",
            "         Login  count      mean    sum\n",
            "0  Undirrala66      5  3.412000  17.06\n",
            "1     Saedue76      4  3.390000  13.56\n",
            "2  Mindimnya67      4  3.185000  12.74\n",
            "3   Haellysu29      3  4.243333  12.73\n",
            "4       Eoda93      3  3.860000  11.58\n",
            "\n",
            "Identificar os 5 itens mais populares por contagem de compras:\n",
            "   Item ID                          Nome do Item  count  mean    sum\n",
            "0       39  Betrayal, Whisper of Grieving Widows     11  2.35  25.85\n",
            "1       84                            Arcane Gem     11  2.23  24.53\n",
            "2       13                              Serenity      9  1.49  13.41\n",
            "3       31                             Trickster      9  2.07  18.63\n",
            "4       34                       Retribution Axe      9  4.14  37.26\n",
            "\n",
            "Identificar os 5 itens mais lucrativos pelo valor total de compra:\n",
            "   Item ID                Nome do Item  count  mean    sum\n",
            "0       34             Retribution Axe      9  4.14  37.26\n",
            "1      115  Spectral Diamond Doomblade      7  4.25  29.75\n",
            "2       32                     Orenmir      6  4.95  29.70\n",
            "3      103              Singed Scalpel      6  4.87  29.22\n",
            "4      107   Splitter, Foe Of Subtlety      8  3.61  28.88\n"
          ]
        }
      ]
    }
  ],
  "metadata": {
    "colab": {
      "provenance": [],
      "include_colab_link": true
    },
    "kernelspec": {
      "display_name": "Python 3",
      "name": "python3"
    }
  },
  "nbformat": 4,
  "nbformat_minor": 0
}